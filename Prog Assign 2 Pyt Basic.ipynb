{
 "cells": [
  {
   "cell_type": "markdown",
   "id": "cfb751c6",
   "metadata": {},
   "source": [
    "1. Write a Python program to convert kilometers to miles?\n",
    "2. Write a Python program to convert Celsius to Fahrenheit?\n",
    "3. Write a Python program to display calendar?\n",
    "4. Write a Python program to solve quadratic equation?\n",
    "5. Write a Python program to swap two variables without temp variable?"
   ]
  },
  {
   "cell_type": "markdown",
   "id": "4b60d140",
   "metadata": {},
   "source": [
    "# 1. Write a Python program to convert kilometers to miles?\n"
   ]
  },
  {
   "cell_type": "code",
   "execution_count": 1,
   "id": "d0b2fa2d",
   "metadata": {},
   "outputs": [
    {
     "name": "stdout",
     "output_type": "stream",
     "text": [
      "Enter kilometre : 10\n",
      "10 km is equal to 6.21 miles\n"
     ]
    }
   ],
   "source": [
    "km = int(input(\"Enter kilometre : \"))\n",
    "miles = km * 0.621\n",
    "print(f\"{km} km is equal to {miles} miles\" )"
   ]
  },
  {
   "cell_type": "markdown",
   "id": "b307c4f4",
   "metadata": {},
   "source": [
    "# 2. Write a Python program to convert Celsius to Fahrenheit?\n"
   ]
  },
  {
   "cell_type": "code",
   "execution_count": 2,
   "id": "92b1cde6",
   "metadata": {},
   "outputs": [
    {
     "name": "stdout",
     "output_type": "stream",
     "text": [
      "Enter celsius : 10\n",
      "10 cel is equal to 50.0 far\n"
     ]
    }
   ],
   "source": [
    "cel = int(input(\"Enter celsius : \"))\n",
    "far = (cel * 9 / 5) + 32\n",
    "print(f\"{cel} cel is equal to {far} far\")"
   ]
  },
  {
   "cell_type": "markdown",
   "id": "ca8e5db0",
   "metadata": {},
   "source": [
    "# 3. Write a Python program to display calendar?\n"
   ]
  },
  {
   "cell_type": "code",
   "execution_count": 3,
   "id": "b779c50e",
   "metadata": {},
   "outputs": [
    {
     "name": "stdout",
     "output_type": "stream",
     "text": [
      "Enter the year :2023\n",
      "Enter the month : 3\n",
      "     March 2023\n",
      "Mo Tu We Th Fr Sa Su\n",
      "       1  2  3  4  5\n",
      " 6  7  8  9 10 11 12\n",
      "13 14 15 16 17 18 19\n",
      "20 21 22 23 24 25 26\n",
      "27 28 29 30 31\n",
      "\n"
     ]
    }
   ],
   "source": [
    "import calendar \n",
    "yy = int(input(\"Enter the year :\"))\n",
    "mm = int(input(\"Enter the month : \"))\n",
    "\n",
    "print(calendar. month(yy,mm))"
   ]
  },
  {
   "cell_type": "markdown",
   "id": "8f5ce02a",
   "metadata": {},
   "source": [
    "# 4. Write a Python program to solve quadratic equation?\n"
   ]
  },
  {
   "cell_type": "code",
   "execution_count": 8,
   "id": "a8b2079f",
   "metadata": {},
   "outputs": [
    {
     "name": "stdout",
     "output_type": "stream",
     "text": [
      "Enter the value of a : 1\n",
      "Enter the value of b : 5\n",
      "Enter the value of c : 6\n",
      "-2.0 -3.0\n"
     ]
    }
   ],
   "source": [
    "a = int(input(\"Enter the value of a : \"))\n",
    "b = int(input(\"Enter the value of b : \"))\n",
    "c = int(input(\"Enter the value of c : \"))\n",
    "temp = (b**2 - 4*a*c)**0.5\n",
    "\n",
    "x1 = (-b + temp)/(2*a)\n",
    "x2 = (-b - temp)/(2*a)\n",
    "\n",
    "print(x1,x2)\n",
    "\n"
   ]
  },
  {
   "cell_type": "markdown",
   "id": "c5f5cceb",
   "metadata": {},
   "source": [
    "# 5. Write a Python program to swap two variables without temp variable?"
   ]
  },
  {
   "cell_type": "code",
   "execution_count": 5,
   "id": "145c61c5",
   "metadata": {},
   "outputs": [
    {
     "name": "stdout",
     "output_type": "stream",
     "text": [
      "Enter the value of a : 2\n",
      "Enter the value of b : 5\n",
      "Value of a is 5\n",
      "Value of b is 2\n"
     ]
    }
   ],
   "source": [
    "a = int(input(\"Enter the value of a : \"))\n",
    "b = int(input(\"Enter the value of b : \"))\n",
    "a , b = b , a\n",
    "print(f\"Value of a is {a}\")\n",
    "print(f\"Value of b is {b}\")"
   ]
  },
  {
   "cell_type": "code",
   "execution_count": null,
   "id": "e7c7d8fa",
   "metadata": {},
   "outputs": [],
   "source": []
  }
 ],
 "metadata": {
  "kernelspec": {
   "display_name": "Python 3 (ipykernel)",
   "language": "python",
   "name": "python3"
  },
  "language_info": {
   "codemirror_mode": {
    "name": "ipython",
    "version": 3
   },
   "file_extension": ".py",
   "mimetype": "text/x-python",
   "name": "python",
   "nbconvert_exporter": "python",
   "pygments_lexer": "ipython3",
   "version": "3.9.12"
  }
 },
 "nbformat": 4,
 "nbformat_minor": 5
}
